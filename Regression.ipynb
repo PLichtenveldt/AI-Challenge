{
 "cells": [
  {
   "cell_type": "code",
   "execution_count": 1,
   "metadata": {},
   "outputs": [],
   "source": [
    "from sklearn.datasets import load_diabetes\n",
    "import numpy as np\n",
    "\n",
    "Xdia, ydia = load_diabetes(return_X_y=True)\n",
    "\n"
   ]
  },
  {
   "cell_type": "code",
   "execution_count": 2,
   "metadata": {},
   "outputs": [
    {
     "name": "stdout",
     "output_type": "stream",
     "text": [
      "\n",
      "R^2: 0.4788599060601566\n",
      "Root Mean Squared Error: 53.68186901309355\n"
     ]
    }
   ],
   "source": [
    "from sklearn.linear_model import LinearRegression\n",
    "from sklearn.metrics import mean_squared_error\n",
    "from sklearn.linear_model import Lasso\n",
    "from sklearn.model_selection import train_test_split\n",
    "from sklearn.metrics import accuracy_score, confusion_matrix\n",
    "\n",
    "    \n",
    "print()\n",
    "reg = LinearRegression()\n",
    "lasso = Lasso(alpha=0.4, normalize=True)\n",
    "\n",
    "lasso.fit(Xdia,ydia)\n",
    "lasso_coef = lasso.coef_\n",
    "\n",
    "Xdia2=[]\n",
    "for i in range(0,len(Xdia)):\n",
    "    rowX=[]\n",
    "    for j in range(0,len(Xdia[i])):\n",
    "        if abs(lasso_coef[j]) > 1.0:\n",
    "            rowX.append(Xdia[i][j])\n",
    "    Xdia2.append(rowX)\n",
    "    \n",
    "X_train, X_test, y_train, y_test = train_test_split(Xdia2, ydia, test_size = 0.25, random_state=42)\n",
    "reg.fit(X_train, y_train)\n",
    "y_pred = reg.predict(X_test)\n",
    "\n",
    "\n",
    "print(\"R^2: {}\".format(reg.score(X_test, y_test)))\n",
    "rmse = np.sqrt(mean_squared_error(y_test, y_pred))\n",
    "print(\"Root Mean Squared Error: {}\".format(rmse))\n",
    "\n"
   ]
  },
  {
   "cell_type": "code",
   "execution_count": 3,
   "metadata": {},
   "outputs": [
    {
     "name": "stdout",
     "output_type": "stream",
     "text": [
      "R^2 on training data: 0.48883593643202994\n"
     ]
    }
   ],
   "source": [
    "print(\"R^2 on training data: {}\".format(reg.score(X_train, y_train)))\n"
   ]
  },
  {
   "cell_type": "code",
   "execution_count": 23,
   "metadata": {},
   "outputs": [
    {
     "name": "stdout",
     "output_type": "stream",
     "text": [
      "Test set RMSE of dt with depth 2: 60.41\n",
      "Test set RMSE of dt with depth 3: 59.94\n",
      "Test set RMSE of dt with depth 4: 58.32\n",
      "Test set RMSE of dt with depth 5: 65.67\n",
      "Test set RMSE of dt with depth 10: 74.21\n"
     ]
    }
   ],
   "source": [
    "from sklearn.tree import DecisionTreeRegressor\n",
    "from sklearn.metrics import mean_squared_error as MSE\n",
    "\n",
    "X_train, X_test, y_train, y_test = train_test_split(Xdia, ydia, test_size = 0.25, random_state=42)\n",
    "\n",
    "for m in[2,3,4,5,10]:\n",
    "    dt = DecisionTreeRegressor(max_depth=m, random_state=14)\n",
    "    dt.fit(X_train, y_train)\n",
    "    y_pred = dt.predict(X_test)\n",
    "    mse_dt = MSE(y_test, y_pred)\n",
    "    rmse_dt = mse_dt ** 0.5\n",
    "    print(f\"Test set RMSE of dt with depth {m}: {rmse_dt:.2f}\")\n",
    "\n"
   ]
  },
  {
   "cell_type": "code",
   "execution_count": 21,
   "metadata": {},
   "outputs": [
    {
     "name": "stdout",
     "output_type": "stream",
     "text": [
      "Test set RMSE of rf: 57.89\n"
     ]
    }
   ],
   "source": [
    "from sklearn.ensemble import RandomForestRegressor\n",
    "rf = RandomForestRegressor(n_estimators=5, random_state=2)\n",
    "\n",
    "rf.fit(X_train, y_train) \n",
    "\n",
    "y_pred = rf.predict(X_test)\n",
    "rmse_test = MSE(y_test, y_pred) ** 0.5\n",
    "print(f'Test set RMSE of rf: {rmse_test:.2f}')"
   ]
  },
  {
   "cell_type": "code",
   "execution_count": null,
   "metadata": {},
   "outputs": [],
   "source": []
  }
 ],
 "metadata": {
  "kernelspec": {
   "display_name": "Python 3",
   "language": "python",
   "name": "python3"
  },
  "language_info": {
   "codemirror_mode": {
    "name": "ipython",
    "version": 3
   },
   "file_extension": ".py",
   "mimetype": "text/x-python",
   "name": "python",
   "nbconvert_exporter": "python",
   "pygments_lexer": "ipython3",
   "version": "3.7.4"
  }
 },
 "nbformat": 4,
 "nbformat_minor": 2
}
